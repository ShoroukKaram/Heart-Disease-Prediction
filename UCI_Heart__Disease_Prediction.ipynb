{
  "nbformat": 4,
  "nbformat_minor": 0,
  "metadata": {
    "colab": {
      "private_outputs": true,
      "provenance": [],
      "authorship_tag": "ABX9TyPXYg2lxGIv/92NBlPYm9v/",
      "include_colab_link": true
    },
    "kernelspec": {
      "name": "python3",
      "display_name": "Python 3"
    },
    "language_info": {
      "name": "python"
    }
  },
  "cells": [
    {
      "cell_type": "markdown",
      "metadata": {
        "id": "view-in-github",
        "colab_type": "text"
      },
      "source": [
        "<a href=\"https://colab.research.google.com/github/ShoroukKaram/Heart-Disease-Prediction/blob/main/UCI_Heart__Disease_Prediction.ipynb\" target=\"_parent\"><img src=\"https://colab.research.google.com/assets/colab-badge.svg\" alt=\"Open In Colab\"/></a>"
      ]
    },
    {
      "cell_type": "markdown",
      "source": [
        "Importing Libraries"
      ],
      "metadata": {
        "id": "1SsasGBipWOB"
      }
    },
    {
      "cell_type": "code",
      "source": [
        "import numpy as np\n",
        "import pandas as pd\n",
        "\n",
        "import seaborn as sns\n",
        "import matplotlib.pyplot as plt\n",
        "import plotly.express as px\n",
        "import plotly.figure_factory as ff\n",
        "import plotly.graph_objects as go"
      ],
      "metadata": {
        "id": "zfyPMUkhpY6g"
      },
      "execution_count": null,
      "outputs": []
    },
    {
      "cell_type": "markdown",
      "source": [
        "Loading Dataset"
      ],
      "metadata": {
        "id": "nGs38XIopg2K"
      }
    },
    {
      "cell_type": "code",
      "source": [
        "%matplotlib inline\n",
        "data = pd.read_csv('heart_disease_uci.csv')\n",
        "data.head()"
      ],
      "metadata": {
        "id": "WwCmkIoppesr"
      },
      "execution_count": null,
      "outputs": []
    },
    {
      "cell_type": "markdown",
      "source": [
        "Handling Missing Data"
      ],
      "metadata": {
        "id": "kXuSoBwsp7QQ"
      }
    },
    {
      "cell_type": "code",
      "source": [
        "data.dropna(inplace = True)\n",
        "from sklearn.utils import shuffle\n",
        "data = shuffle(data)\n",
        "data.info()"
      ],
      "metadata": {
        "id": "SzcuO2ncppSQ"
      },
      "execution_count": null,
      "outputs": []
    },
    {
      "cell_type": "markdown",
      "source": [
        "Pre-Processing"
      ],
      "metadata": {
        "id": "UKXp1yESqR-n"
      }
    },
    {
      "cell_type": "code",
      "source": [
        "data['thal'].replace({'fixed defect':'fixed_defect' , 'reversable defect': 'reversable_defect' }, inplace =True)\n",
        "data['cp'].replace({'typical angina':'typical_angina', 'atypical angina': 'atypical_angina' }, inplace =True)\n",
        "\n",
        "\n",
        "data_tmp = data[['age','sex','cp', 'trestbps', 'chol', 'fbs',  'thalch', 'exang', 'oldpeak', 'slope', 'ca', 'thal']].copy()\n",
        "data_tmp['target'] = ((data['num'] > 0)*1).copy()\n",
        "data_tmp['sex'] = (data['sex'] == 'Male')*1\n",
        "data_tmp['fbs'] = (data['fbs'])*1\n",
        "data_tmp['exang'] = (data['exang'])*1\n",
        "\n",
        "data_tmp.columns = ['age', 'sex', 'chest_pain_type', 'resting_blood_pressure',\n",
        "              'cholesterol', 'fasting_blood_sugar',\n",
        "              'max_heart_rate_achieved', 'exercise_induced_angina',\n",
        "              'st_depression', 'st_slope_type', 'num_major_vessels',\n",
        "              'thalassemia_type', 'target']\n",
        "data_tmp.head(15)"
      ],
      "metadata": {
        "id": "8EUTVSH3qCED"
      },
      "execution_count": null,
      "outputs": []
    },
    {
      "cell_type": "markdown",
      "source": [
        "One-hot Encoding"
      ],
      "metadata": {
        "id": "0QPgCWbjqeKI"
      }
    },
    {
      "cell_type": "code",
      "source": [
        "data = pd.get_dummies(data_tmp, drop_first=False)\n",
        "data.columns"
      ],
      "metadata": {
        "id": "__m21VZrqYyq"
      },
      "execution_count": null,
      "outputs": []
    },
    {
      "cell_type": "markdown",
      "source": [
        "Logistic Regression\n"
      ],
      "metadata": {
        "id": "UMk3etpcqofz"
      }
    },
    {
      "cell_type": "code",
      "source": [
        "from sklearn.model_selection import train_test_split\n",
        "y = data['target']\n",
        "X = data.drop('target', axis = 1)\n",
        "X_train, X_test, y_train, y_test = train_test_split(X, y, test_size=0.2, random_state=0)\n",
        "print(f'Shape of X_train: {X_train.shape}')\n",
        "print(f'Shape of y_train: {y_train.shape}')\n",
        "print(f'Shape of X_test: {X_test.shape}')\n",
        "print(f'Shape of y_test: {y_test.shape}')"
      ],
      "metadata": {
        "id": "su46GiMcqiqn"
      },
      "execution_count": null,
      "outputs": []
    },
    {
      "cell_type": "markdown",
      "source": [
        "Normalization"
      ],
      "metadata": {
        "id": "ZXL2xYWdqueS"
      }
    },
    {
      "cell_type": "code",
      "source": [
        "X_train=(X_train-np.min(X_train))/(np.max(X_train)-np.min(X_train)).values\n",
        "X_test=(X_test-np.min(X_test))/(np.max(X_test)-np.min(X_test)).values\n",
        "X_test"
      ],
      "metadata": {
        "id": "5pdKhuuWqtW2"
      },
      "execution_count": null,
      "outputs": []
    },
    {
      "cell_type": "markdown",
      "source": [
        "Fitting Into the Regression Model\n"
      ],
      "metadata": {
        "id": "st_lxm2eq9HM"
      }
    },
    {
      "cell_type": "code",
      "source": [
        "from sklearn.linear_model import LogisticRegression\n",
        "logre = LogisticRegression()\n",
        "logre.fit(X_train,y_train)"
      ],
      "metadata": {
        "id": "MrtqsSNqq2Fr"
      },
      "execution_count": null,
      "outputs": []
    },
    {
      "cell_type": "markdown",
      "source": [
        "Prediction"
      ],
      "metadata": {
        "id": "u_UOpuVbrBuG"
      }
    },
    {
      "cell_type": "code",
      "source": [
        "y_pred = logre.predict(X_test)\n",
        "actual = []\n",
        "predcition = []\n",
        "for i,j in zip(y_test,y_pred):\n",
        "    actual.append(i)\n",
        "    predcition.append(j)\n",
        "\n",
        "dic = {'Actual':actual,\n",
        "       'Prediction':predcition }\n",
        "\n",
        "result  = pd.DataFrame(dic)"
      ],
      "metadata": {
        "id": "h-ck6whgrAph"
      },
      "execution_count": null,
      "outputs": []
    },
    {
      "cell_type": "markdown",
      "source": [
        "Model Evaluation"
      ],
      "metadata": {
        "id": "gh99TdKDrTl2"
      }
    },
    {
      "cell_type": "code",
      "source": [
        "#Accuracy\n",
        "from sklearn.metrics import accuracy_score\n",
        "print('The Accuracy Score is: ', accuracy_score(y_test,y_pred))"
      ],
      "metadata": {
        "id": "FevfY0V1rLO3"
      },
      "execution_count": null,
      "outputs": []
    },
    {
      "cell_type": "code",
      "source": [
        "#Precision, Recall, F1-Score, Support\n",
        "from sklearn.metrics import classification_report\n",
        "print(classification_report(y_test,y_pred))\n"
      ],
      "metadata": {
        "id": "_dXcH-Hyrad6"
      },
      "execution_count": null,
      "outputs": []
    },
    {
      "cell_type": "code",
      "source": [
        "# Confusion Matrix\n",
        "from sklearn.metrics import confusion_matrix\n",
        "print(confusion_matrix(y_test,y_pred))\n",
        "sns.heatmap(confusion_matrix(y_test,y_pred),annot=True)"
      ],
      "metadata": {
        "id": "YLxWfbEzrmq0"
      },
      "execution_count": null,
      "outputs": []
    },
    {
      "cell_type": "code",
      "source": [
        "#Area under ROC and ROC Curve\n",
        "import sklearn\n",
        "print('Area Under ROC-Curve: ', sklearn.metrics.roc_auc_score(y_test,y_pred))"
      ],
      "metadata": {
        "id": "QUzV7-qprvgi"
      },
      "execution_count": null,
      "outputs": []
    },
    {
      "cell_type": "code",
      "source": [
        "from sklearn.metrics import roc_curve\n",
        "fpr, tpr, thresholds = roc_curve(y_test, y_pred, drop_intermediate = False)\n",
        "plt.plot(fpr,tpr)\n",
        "plt.xlim([0.0, 1.0])\n",
        "plt.ylim([0.0, 1.0])\n",
        "plt.title('ROC curve for Heart disease classifier')\n",
        "plt.xlabel('False positive rate (1-Specificity)')\n",
        "plt.ylabel('True positive rate (Sensitivity)')\n",
        "plt.grid(True)"
      ],
      "metadata": {
        "id": "1XhbQRyvr5Ke"
      },
      "execution_count": null,
      "outputs": []
    },
    {
      "cell_type": "code",
      "source": [],
      "metadata": {
        "id": "PCKdozpwr8sq"
      },
      "execution_count": null,
      "outputs": []
    }
  ]
}